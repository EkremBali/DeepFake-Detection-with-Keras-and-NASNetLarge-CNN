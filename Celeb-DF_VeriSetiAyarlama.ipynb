{
 "cells": [
  {
   "cell_type": "code",
   "execution_count": 1,
   "metadata": {
    "executionInfo": {
     "elapsed": 1890,
     "status": "ok",
     "timestamp": 1658298562290,
     "user": {
      "displayName": "Ekrem Balı",
      "userId": "17683390588978915548"
     },
     "user_tz": -180
    },
    "id": "GPSPJ66zUV7b"
   },
   "outputs": [],
   "source": [
    "import dlib\n",
    "import cv2\n",
    "import os\n",
    "import re\n",
    "import json\n",
    "from pylab import *\n",
    "from PIL import Image, ImageChops, ImageEnhance"
   ]
  },
  {
   "cell_type": "code",
   "execution_count": 2,
   "metadata": {
    "executionInfo": {
     "elapsed": 3319,
     "status": "ok",
     "timestamp": 1658298573893,
     "user": {
      "displayName": "Ekrem Balı",
      "userId": "17683390588978915548"
     },
     "user_tz": -180
    },
    "id": "Ll5HWPLId2zL"
   },
   "outputs": [],
   "source": [
    "#Celeb-DF veri kümesi içerisinde test olarak kullanılacak videoları tutan bir txt dosyası bulunmaktadır.\n",
    "#Bu hücrede bu txt dosyası okunarak test videolarının isimleri bir diziye atılmaktadır.\n",
    "#Aşağıdaki dosya yoluna kendi dosya yolunuzu giriniz.\n",
    "\n",
    "test_videos = []\n",
    "dosya = open('D:/Datasets/Celeb-DF-v2/List_of_testing_videos.txt', 'r') \n",
    "for satir in dosya: \n",
    "    satir = satir.split()\n",
    "    satir2 = satir[1].split(\"/\")\n",
    "    test_videos.append(satir2[1])\n",
    "dosya.close() "
   ]
  },
  {
   "cell_type": "code",
   "execution_count": 3,
   "metadata": {
    "executionInfo": {
     "elapsed": 279,
     "status": "ok",
     "timestamp": 1658298584600,
     "user": {
      "displayName": "Ekrem Balı",
      "userId": "17683390588978915548"
     },
     "user_tz": -180
    },
    "id": "5KW2vOVSgHLh"
   },
   "outputs": [],
   "source": [
    "#Bu fonksiyona video ismi gönderilmekte ve fonksiyona gelen videonun test videosu olup olmadığı dönülmektedir.\n",
    "\n",
    "def isTest(video):\n",
    "  for vid in test_videos: \n",
    "    if(vid == video):\n",
    "      return True\n",
    "  \n",
    "  return False\n"
   ]
  },
  {
   "cell_type": "code",
   "execution_count": null,
   "metadata": {
    "executionInfo": {
     "elapsed": 7821542,
     "status": "ok",
     "timestamp": 1658306414954,
     "user": {
      "displayName": "Ekrem Balı",
      "userId": "17683390588978915548"
     },
     "user_tz": -180
    },
    "id": "i64GNrKcUde8"
   },
   "outputs": [],
   "source": [
    "#Bu hücrede ise öncelikle yüz bölgeleri çıkarılacak video klasörünün yolu seçilir. Celeb-DFv2 kümesinde bu şekilde 3 klasör\n",
    "#bulunmaktadır. Bu üç klasör için ayrı ayrı çalıştırılır. \n",
    "\n",
    "import matplotlib.pyplot as plt\n",
    "\n",
    "train_frame_folder = 'D:/Datasets/Celeb-DF-v2/YouTube-real'\n",
    "\n",
    "#Yukarıdaki dosya yolunda bulunan tüm dosya isimlerinin bir listede tutulmasını sağlayan kod satırı.\n",
    "list_of_train_data = [f for f in os.listdir(train_frame_folder)]\n",
    "\n",
    "detector = dlib.get_frontal_face_detector()\n",
    "\n",
    "#Bütün dosyalar for döngüsü ile gezilir ve her bir video ismi ile dosya yolu birleştirilerek videonun yolu tespit edilir.\n",
    "#Ardından seçilen frameRate'e göre video karelerinde yüz bölgeleri seçilerek resim olarak kaydedilir.\n",
    "for vid in list_of_train_data:\n",
    "    count = 0\n",
    "    cap = cv2.VideoCapture(os.path.join(train_frame_folder, vid))\n",
    "    frameRate = cap.get(5)\n",
    "    frameRate = frameRate/2\n",
    "    while cap.isOpened():\n",
    "        frameId = cap.get(1)\n",
    "        ret, frame = cap.read()\n",
    "        if ret != True:\n",
    "            break\n",
    "        if frameId % ((int(frameRate)+1)*1) == 0:\n",
    "            face_rects, scores, idx = detector.run(frame, 0)\n",
    "            for i, d in enumerate(face_rects):\n",
    "                x1 = d.left()\n",
    "                y1 = d.top()\n",
    "                x2022-08-30 00:00:00,940 ActivityScheduler-24     DEBUG ActivityScheduler - Run [Reload config files] 0 ms. (Runs every 2 sec)
2022-08-30 00:00:02,964 ActivityScheduler-24     DEBUG ActivityScheduler - Run [Reload config files] 0 ms. (Runs every 2 sec)
2022-08-30 00:00:04,993 ActivityScheduler-24     DEBUG ActivityScheduler - Run [Reload config files] 0 ms. (Runs every 2 sec)
2022-08-30 00:00:07,021 ActivityScheduler-24     DEBUG ActivityScheduler - Run [Reload config files] 0 ms. (Runs every 2 sec)
2022-08-30 00:00:09,054 ActivityScheduler-24     DEBUG ActivityScheduler - Run [Reload config files] 0 ms. (Runs every 2 sec)
2022-08-30 00:00:11,069 ActivityScheduler-24     DEBUG ActivityScheduler - Run [Reload config files] 0 ms. (Runs every 2 sec)
2022-08-30 00:00:13,099 ActivityScheduler-24     DEBUG ActivityScheduler - Run [Reload config files] 0 ms. (Runs every 2 sec)
2022-08-30 00:00:15,130 ActivityScheduler-24     DEBUG ActivityScheduler - Run [Reload config files] 0 ms. (Runs every 2 sec)
2022-08-30 00:00:17,151 ActivityScheduler-24     DEBUG ActivityScheduler - Run [Reload config files] 0 ms. (Runs every 2 sec)
2022-08-30 00:00:19,178 ActivityScheduler-24     DEBUG ActivityScheduler - Run [Reload config files] 0 ms. (Runs every 2 sec)
2022-08-30 00:00:21,209 ActivityScheduler-24     DEBUG ActivityScheduler - Run [Reload config files] 0 ms. (Runs every 2 sec)
2022-08-30 00:00:23,240 ActivityScheduler-24     DEBUG ActivityScheduler - Run [Reload config files] 0 ms. (Runs every 2 sec)
2022-08-30 00:00:25,280 ActivityScheduler-24     DEBUG ActivityScheduler - Run [Reload config files] 0 ms. (Runs every 2 sec)
2022-08-30 00:00:27,298 ActivityScheduler-24     DEBUG ActivityScheduler - Run [Reload config files] 0 ms. (Runs every 2 sec)
2022-08-30 00:00:29,331 ActivityScheduler-24     DEBUG ActivityScheduler - Run [Reload config files] 0 ms. (Runs every 2 